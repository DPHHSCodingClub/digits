{
 "cells": [
  {
   "attachments": {},
   "cell_type": "markdown",
   "metadata": {},
   "source": [
    "# Digit Classification\n",
    "\n",
    "What does this image look like to you?\n",
    "\n",
    "![some digit](media/digit-0036.png)\n",
    "\n",
    "How about this one?\n",
    "\n",
    "![another digit](media/digit-1279.png)\n",
    "\n",
    "We can train a computer to predict what digit is shown by these images. If we have:\n",
    "\n",
    "* a large dataset of many such images, and\n",
    "* \"labels\" for some images, telling us exactly what digits they should be,\n",
    "\n",
    "a computer can learn from the labeled images, and from commonalities / dissimilarities between images in the large dataset, to predict each image's digit.\n",
    "This is _classification_, which is an example of _machine learning_.\n",
    "\n",
    "This notebook is adapted from the work of\n",
    "Mike Smith (University of Sheffield):<br>\n",
    "https://github.com/lionfish0/Classification_talk/blob/master/ipython/Classification.ipynb<br>\n",
    "(mirror: https://notebook.community/lionfish0/Classification_talk/ipython/Classification).<br>\n",
    "Images above are #36 and #1279 in the scikit-learn digits dataset.\n",
    "\n",
    "To learn more about classification, check out Mike's talk:\n",
    "https://lionfish0.github.io/Classification_talk"
   ]
  },
  {
   "cell_type": "markdown",
   "metadata": {},
   "source": [
    "# 0. Welcome to Jupyter notebooks\n",
    "\n",
    "You are looking at a __Jupyter notebook__.  Like [codecademy.com](https://www.codecademy.com), this is another way to run Python code in your web browser.  But, this notebook has some advantages.\n",
    "* It's easier for us to share and write code.\n",
    "* It's a standard tool for many working programmers.  It makes it easy to create a log of your code and your reasoning.\n",
    "\n",
    "In a Jupyter notebook, your code lives inside \"cells\", or blocks of code. Click on the cell below and press <kbd>Shift</kbd>+<kbd>Enter</kbd> together, to add `2+2`.  Notice:\n",
    "1. We are using Python 3 instead of Python 2, so `print` requires parentheses.\n",
    "2. When you run code, the result appears below each cell.\n",
    "3. You can click a cell to select it, then hit <kbd>Shift</kbd>+<kbd>Enter</kbd> again to _re-run_ the same cell.\n",
    "\n",
    "The first cell may take a little while to run -- the notebook needs time to \"start up\".  When you see `4` appear below the cell, you can keep going."
   ]
  },
  {
   "cell_type": "code",
   "execution_count": null,
   "metadata": {},
   "outputs": [],
   "source": [
    "print(2+2)"
   ]
  },
  {
   "cell_type": "markdown",
   "metadata": {},
   "source": [
    "# 1. Come and get your data\n",
    "\n",
    "We have to do some setup before we can start looking at digits.\n",
    "\n",
    "Below is a \"package import\", which tells Python to load some data\n",
    "from the Python package called Scikit-learn ([https://scikit-learn.org/](https://scikit-learn.org/)).\n"
   ]
  },
  {
   "cell_type": "code",
   "execution_count": null,
   "metadata": {},
   "outputs": [],
   "source": [
    "# We will access the package via the newly-created variable \"datasets\"\n",
    "from sklearn import datasets"
   ]
  },
  {
   "cell_type": "markdown",
   "metadata": {},
   "source": [
    "In Python, objects can have \"attributes\" belonging to them, which we access using a dot: `.`\n",
    "\n",
    "Below, we call the function `load_digits()` belonging to the variable `datasets`\n",
    "\n",
    "The function _returns_ some unknown thing, which we store in a new variable `digits`"
   ]
  },
  {
   "cell_type": "code",
   "execution_count": null,
   "metadata": {},
   "outputs": [],
   "source": [
    "digits = datasets.load_digits()"
   ]
  },
  {
   "cell_type": "markdown",
   "metadata": {},
   "source": [
    "What is the unknown thing stored in `digits`?\n",
    "\n",
    "__Exercise:__ use the `print(...)` function, with parentheses to take a look."
   ]
  },
  {
   "cell_type": "code",
   "execution_count": null,
   "metadata": {},
   "outputs": [],
   "source": [
    "# your code here"
   ]
  },
  {
   "cell_type": "markdown",
   "metadata": {},
   "source": [
    "Whoa! There is a ton of stuff. We don't have time to look at everything, but the two most important parts are:\n",
    "\n",
    "    digits.data\n",
    "    digits.target\n",
    "\n",
    "Let's see what's inside there.\n",
    "\n",
    "__Exercise:__ use the `print(...)` function to look at `digits.data` and `digits.target`."
   ]
  },
  {
   "cell_type": "code",
   "execution_count": null,
   "metadata": {},
   "outputs": [],
   "source": [
    "# your code here"
   ]
  },
  {
   "cell_type": "markdown",
   "metadata": {},
   "source": [
    "Now, `data` and `target` are attributes of `digits`.<br>\n",
    "But, `data` and `target` also have their own attributes, such as:\n",
    "\n",
    "    .shape\n",
    "    .ndim\n",
    "    .size\n",
    "    \n",
    "    .min()\n",
    "    .max()\n",
    "\n",
    "We can access these attributes by writing code like `print(digits.data.ndim)`.\n",
    "\n",
    "Please note, `digits.data` and `digits.target` possess these attributes\n",
    "because they are _Numpy arrays_, a special object used for data analysis and numerical\n",
    "computation in Python.  Other objects, like regular Python lists, may not have these attributes.\n",
    "\n",
    "__Exercise:__ look at the attributes of `digits.data` and `digits.target`, to better understand their contents.  Pro-tip: in Jupyter notebooks, we can skip the `print(...)` as long as we are only looking at one thing.\n",
    "\n",
    "Try to answer the questions:\n",
    "\n",
    "* How many elements are in `digits.data` and in `digits.target`?\n",
    "* What are the dimensions of these arrays (1D, 2D, 3D, more?)\n",
    "* What are some typical values?  What are the biggest and smallest values?"
   ]
  },
  {
   "cell_type": "code",
   "execution_count": null,
   "metadata": {},
   "outputs": [],
   "source": [
    "digits.data.ndim  # try running this cell"
   ]
  },
  {
   "cell_type": "code",
   "execution_count": null,
   "metadata": {
    "_cell_guid": "b1076dfc-b9ad-4769-8c92-a6c4dae69d19",
    "_uuid": "8f2839f25d086af736a60e9eeb907d3b93b6e0e5"
   },
   "outputs": [],
   "source": [
    "# your code here"
   ]
  },
  {
   "cell_type": "markdown",
   "metadata": {},
   "source": [
    "How do we access the values in these arrays?\n",
    "\n",
    "Python is a \"zero-indexed\" language.  That means, the first element of a list is accessed by index \"0\".  We use square brackets `[` and `]` to get the elements of a list, like so:\n",
    "\n",
    "    >>> x = ['a', 'b', 'c']\n",
    "    >>> print( x[0] )  # this will print 'a'\n",
    "\n",
    "__Exercise:__ look at the first elements of `digits.data` and `digits.target`."
   ]
  },
  {
   "cell_type": "code",
   "execution_count": null,
   "metadata": {},
   "outputs": [],
   "source": [
    "# your code here"
   ]
  },
  {
   "cell_type": "markdown",
   "metadata": {},
   "source": [
    "We see that, `digits.data[0]` gives us the entire first row of the matrix,\n",
    "with all 64 columns.\n",
    "\n",
    "What if we want more than one row?  We can use \"slice\" notation with the colon `:`.  For example, `digits.data[0:2]` will get the first two rows (indices 0 and 1, index 2 is skipped).\n",
    "\n",
    "__Exercise__: print out the first two rows of `digits.data`, and the first two elements of `digits.target`.  Then, print the first 10 rows and first 1000 rows of `digits.data` and see what happens."
   ]
  },
  {
   "cell_type": "code",
   "execution_count": null,
   "metadata": {},
   "outputs": [],
   "source": [
    "# your code here"
   ]
  },
  {
   "cell_type": "markdown",
   "metadata": {},
   "source": [
    "## What's in our dataset?\n",
    "\n",
    "We conclude that `digits.data` is a 1797 x 64 matrix of numbers between 0 to 16, inclusive.\n",
    "\n",
    "__Each value in `digits.data` encodes the lightness or darkness of one image pixel, and each of the 1797 rows represents an 8x8 image with 64 pixels total.__\n",
    "\n",
    "Furthermore, `digits.target` is a list of 1797 numbers between 0 and 9, inclusive.\n",
    "\n",
    "__Each value in `digits.target` tells us the \"correct\" digit of the corresponding image in `digits.data`.__"
   ]
  },
  {
   "attachments": {},
   "cell_type": "markdown",
   "metadata": {},
   "source": [
    "# 2. Look at your digits\n",
    "\n",
    "![Patrick Star looks at his digit-less limb](media/patrick-hand.png)\n",
    "\n",
    "Our data looks like a bunch of numbers.  Can we actually see the digit images for ourselves?\n",
    "\n",
    "We will use the Python package Matplotlib (https://matplotlib.org/).  Let's import the package into a new variable called `plt`, and use the provided function `plt.matshow` to look at our data."
   ]
  },
  {
   "cell_type": "code",
   "execution_count": null,
   "metadata": {},
   "outputs": [],
   "source": [
    "from matplotlib import pyplot as plt\n",
    "\n",
    "# This \"%\" line is not Python code, but a special command for Jupyter notebooks\n",
    "# to show images inside the notebook.\n",
    "%matplotlib inline"
   ]
  },
  {
   "cell_type": "code",
   "execution_count": null,
   "metadata": {},
   "outputs": [],
   "source": [
    "plt.matshow(digits.data[35,:].reshape(8,8), cmap=\"gray\")\n",
    "plt.show()"
   ]
  },
  {
   "cell_type": "markdown",
   "metadata": {},
   "source": [
    "__Exercise:__ print the 36th element (index 35) of `digits.target` to check what digit this image shows."
   ]
  },
  {
   "cell_type": "code",
   "execution_count": null,
   "metadata": {},
   "outputs": [],
   "source": [
    "# your code here"
   ]
  },
  {
   "cell_type": "markdown",
   "metadata": {},
   "source": [
    "What is going on here?  Let's decipher it in pieces:\n",
    "\n",
    "1. The command `digits.data[35,:]` means: take the 36th row and all columns of `data.digits`.\n",
    "   Remember, `digits.data` is a 1797x64 matrix, so we will get a 64 element list.\n",
    "\n",
    "2. We call the function `reshape(8,8)`, with input arguments 8 and 8, to change\n",
    "   the 64 element list into an 8x8 matrix.\n",
    "\n",
    "3. That 8x8 matrix is passed to the function `plt.matshow()`, which creates an _image_\n",
    "   of the input matrix.\n",
    "\n",
    "4. We call the function `plt.show()` to actually display the image on our screens."
   ]
  },
  {
   "cell_type": "code",
   "execution_count": null,
   "metadata": {},
   "outputs": [],
   "source": [
    "digits.data[35,:]"
   ]
  },
  {
   "cell_type": "code",
   "execution_count": null,
   "metadata": {},
   "outputs": [],
   "source": [
    "digits.data[35,:].reshape(8,8)"
   ]
  },
  {
   "cell_type": "markdown",
   "metadata": {},
   "source": [
    "We can change the color of our image by using the _keyword argument_ `cmap`.\n",
    "This is another way to give an input, or argument, to a function.\n",
    "\n",
    "The keyword argument `cmap` requires a string, in either single quotes '' or double quotes \"\".\n",
    "Here are some strings that you can use.\n",
    "\n",
    "    \"viridis\"\n",
    "    \"viridis_r\"\n",
    "    \"inferno\"\n",
    "    \"plasma\"\n",
    "    \"magma\"\n",
    "    \"cividis\"\n",
    "    \"gray\"\n",
    "\n",
    "__Exercise:__ try different `cmap` inputs, and see which one you like the most.  Copy-paste the code from above to get started."
   ]
  },
  {
   "cell_type": "code",
   "execution_count": null,
   "metadata": {},
   "outputs": [],
   "source": [
    "# your code here"
   ]
  },
  {
   "cell_type": "markdown",
   "metadata": {},
   "source": [
    "__Exercise:__ display the very first and very last digit images in the dataset.  Remember, `digits.data` is a 1797 x 64 array, and the indexing starts at zero, not one!"
   ]
  },
  {
   "cell_type": "code",
   "execution_count": null,
   "metadata": {},
   "outputs": [],
   "source": [
    "# your code here"
   ]
  },
  {
   "cell_type": "markdown",
   "metadata": {},
   "source": [
    "# 3. Look at your digits, but faster\n",
    "\n",
    "Let's use what we have learned to construct a quick and easy way to look at digit images, and to look at the \"correct answers\" for each image.\n",
    "\n",
    "We are going to define our own function, that is, our own block of code, just like building your own block in Snap! or Scratch.\n",
    "\n",
    "__Exercise:__ below is an empty template for a new function called `digitshow`.\n",
    "Add code to digitshow so that . . .\n",
    "* when you run the code `digitshow(0)`, it displays the first image of the dataset\n",
    "* when you run the code `digitshow(35)`, it displays the 36th image of the dataset (the \"five\" we saw earlier)"
   ]
  },
  {
   "cell_type": "code",
   "execution_count": null,
   "metadata": {},
   "outputs": [],
   "source": [
    "def digitshow(n):\n",
    "    \"\"\"Display the n-th image (where n starts from 0) from the scikit-learn digits dataset.\"\"\"\n",
    "    # Put your code here.  It needs to be indented, with 4 spaces in front of each line,\n",
    "    # to be part of the function definition."
   ]
  },
  {
   "cell_type": "code",
   "execution_count": null,
   "metadata": {},
   "outputs": [],
   "source": [
    "# run this cell to test that your function works\n",
    "digitshow(0)"
   ]
  },
  {
   "cell_type": "code",
   "execution_count": null,
   "metadata": {},
   "outputs": [],
   "source": [
    "# run this cell to test that your function works\n",
    "digitshow(35)"
   ]
  },
  {
   "cell_type": "markdown",
   "metadata": {},
   "source": [
    "# 4. Human vs. computer: who can read digits better?\n",
    "\n",
    "## 4.1 Meatbags go first.\n",
    "\n",
    "__Exercise:__ let's all look at the same ten digits, by running the cell below.  Record what _you_ think each image shows.\n",
    "Then, look at the answers (read the code, to see how to do this).  How many did you get right?"
   ]
  },
  {
   "cell_type": "code",
   "execution_count": null,
   "metadata": {},
   "outputs": [],
   "source": [
    "# this \"for\" loop sets n=1787, then 1788, ..., up to n=1796 (does not set n=1797),\n",
    "# using Python's built-in range(...) function.\n",
    "\n",
    "for n in range(1787,1797):\n",
    "    digitshow(n)\n",
    "    \n",
    "    # When you are ready to see the answers, uncomment the lines below\n",
    "    # by removing the '#' in front of each print(...) statement.\n",
    "    \n",
    "    #print(\"The above image shows:\", digits.target[n])\n",
    "    #print(\"=\"*40)"
   ]
  },
  {
   "attachments": {},
   "cell_type": "markdown",
   "metadata": {
    "execution": {
     "iopub.execute_input": "2022-04-10T20:18:46.99893Z",
     "iopub.status.busy": "2022-04-10T20:18:46.998571Z",
     "iopub.status.idle": "2022-04-10T20:18:47.011992Z",
     "shell.execute_reply": "2022-04-10T20:18:47.010766Z",
     "shell.execute_reply.started": "2022-04-10T20:18:46.998889Z"
    }
   },
   "source": [
    "## 4.2 Computer's turn.\n",
    "\n",
    "![Bender the robot, from Futurama](media/bender.png)\n",
    "\n",
    "Now, we shall _train_ a computer to classify these digits. Recall from the introduction:\n",
    "\n",
    "> If we have:\n",
    "> \n",
    "> * a large dataset of many such images, and\n",
    "> * \"labels\" for some images, telling us exactly what digits they should be,\n",
    "> \n",
    "> a computer can learn from the labeled images,\n",
    "> and from commonalities / dissimilarities between images in the large dataset,\n",
    "> to predict each image's digit.\n",
    "\n",
    "Let's get started!\n",
    "\n",
    "First, we must choose some of our data, with the labels (correct answers), to train the computer."
   ]
  },
  {
   "cell_type": "code",
   "execution_count": null,
   "metadata": {},
   "outputs": [],
   "source": [
    "# put the first 1000 images into the variable training_data\n",
    "training_data = digits.data[0:1000]\n",
    "\n",
    "# put the first 1000 labels into the variable training_target\n",
    "training_target = digits.target[0:1000]"
   ]
  },
  {
   "cell_type": "markdown",
   "metadata": {},
   "source": [
    "Now that we have a set of training data to show Python (which we called `training_data`), as well as what the correct answers are supposed to be (which we called `training_target`), we can import a machine learning package from sklearn to teach Python how to read numbers!"
   ]
  },
  {
   "cell_type": "code",
   "execution_count": null,
   "metadata": {},
   "outputs": [],
   "source": [
    "# import the package that we need\n",
    "from sklearn import neighbors"
   ]
  },
  {
   "cell_type": "markdown",
   "metadata": {},
   "source": [
    "In order to use this machine learning package, we have to tell the algorithm what variables hold the training data and the target data (the answers).\n",
    "\n",
    "We will use a [supervised $k$-nearest neighbors classifier](https://scikit-learn.org/stable/modules/neighbors.html#classification).\n",
    "For now, we will not explain how it works -- all you need to know is that it learns from the training data in order to make predictions.\n",
    "\n",
    "__Exercise:__ Plug in these variables for yourself below!"
   ]
  },
  {
   "cell_type": "code",
   "execution_count": null,
   "metadata": {},
   "outputs": [],
   "source": [
    "# Here we choose the machine learning algorithm we plan to use on our data\n",
    "nn = neighbors.KNeighborsClassifier(n_neighbors=1)\n",
    "\n",
    "# To train the data, we use the .fit function like this:\n",
    "#     nn.fit(  training data goes first  ,    the second argument is target data )\n",
    "# Replace the ____ below with the variables representing the training data and the target data\n",
    "\n",
    "# When the code is run, the training knowledge will be stored in the variable \"nn\"\n",
    "\n",
    "nn.fit( ____ , ____ )"
   ]
  },
  {
   "cell_type": "markdown",
   "metadata": {},
   "source": [
    "We have used 1000 pictures to *train* Python to understand what a hand-drawn 1,2,3,... could look like. Now it is time to test how good Python is at learning! \n",
    "\n",
    "Without telling Python what the answers are, we will ask Python to predict the digits appearing in the 10 pictures of the dataset, using the `.predict` function of the machine learning algorithm! Then we'll compare against our guesses to see who did better; humans or machines?\n",
    "\n"
   ]
  },
  {
   "cell_type": "code",
   "execution_count": null,
   "metadata": {},
   "outputs": [],
   "source": [
    "# These are the numbers that Python thinks the last 10 pictures correspond to.\n",
    "nn.predict(digits.data[1787:1797])"
   ]
  },
  {
   "attachments": {},
   "cell_type": "markdown",
   "metadata": {},
   "source": [
    "## 4.3 Comparison\n",
    "\n",
    "It is finally time to compare our human guesses against Python's guesses! \n",
    "\n",
    "Drumroll please...\n",
    "\n",
    "![Patrick Star plays drums](media/patrick-drums.png)"
   ]
  },
  {
   "cell_type": "code",
   "execution_count": null,
   "metadata": {},
   "outputs": [],
   "source": [
    "print(\"Predicted\", nn.predict(digits.data[1787:1797]))\n",
    "\n",
    "print(\"Answers  \", digits.target[1787:1797])"
   ]
  },
  {
   "cell_type": "markdown",
   "metadata": {},
   "source": [
    "Python got 9/10 correct. How did you do?\n",
    "\n",
    "Python thought the 4th picture of the list was a 1, while the answer is actually 8.\n",
    "\n",
    "__Exercise:__ use your `digitshow` function to display the picture that Python misclassified."
   ]
  },
  {
   "cell_type": "code",
   "execution_count": null,
   "metadata": {},
   "outputs": [],
   "source": [
    "# your code here"
   ]
  },
  {
   "cell_type": "markdown",
   "metadata": {},
   "source": [
    "Can you blame Python for getting this wrong? "
   ]
  },
  {
   "cell_type": "markdown",
   "metadata": {},
   "source": [
    "# 5. Recap\n",
    "\n",
    "In this notebook, our goal was to see if Python could learn to read handwritten numbers in 64-pixel pictures:\n",
    "- We gave Python 1000 pictures to study, and told Python what digit is associated with each of these training pictures. \n",
    "\n",
    "            training_data = digits.data[0:1000]\n",
    "            training_target = digits.target[0:1000]\n",
    "\n",
    "            nn = neighbors.KNeighborsClassifier(n_neighbors=1)\n",
    "            nn.fit(training_data, training_target)\n",
    "\n",
    "\n",
    "- Using a machine learning algorithm, Python was able to look at other pictures and predict the digits without knowing the answers beforehand!\n",
    "\n",
    "            test_data = digits.data[1787:1797]\n",
    "            test_target = digits.target[1787:1797]\n",
    "            \n",
    "            print(\"Predicted\", nn.predict(test_data))\n",
    "\n",
    "\n",
    "- Python correctly guessed 9/10 of the last 10 digits. Not bad!\n",
    "\n",
    "            print(\"Answers  \", test_target)\n",
    "\n",
    "\n",
    "__There's much more we could do.__  We could...\n",
    "* try to predict some other images in the dataset.  Can you beat the computer on other images?\n",
    "* try to predict more images.  How does the algorithm perform on 100 images? 500 images?\n",
    "* train the computer badly!  What happens if you train with only 10 images, or even fewer?\n",
    "* change the algorithm.  Our algorithm is a supervised $k$-nearest neighbors classifier.  What if we use something different, like a \"decision tree\" classifier?\n",
    "\n",
    "Below is some starter code to tackle these questions, for you to play and explore with.  You can jump to any of the sections 6.1, 6.2, 6.3, 6.4 in whatever order you want."
   ]
  },
  {
   "cell_type": "markdown",
   "metadata": {},
   "source": [
    "# 6. Messing around\n",
    "\n",
    "## 6.1 Try to predict some other images in the dataset\n",
    "\n",
    "Now that we have used the first 1000 pictures to train Python to read digits, let's mess around and ask Python to predict some other pictures. \n",
    "\n",
    "__Exercise:__ First, choose a number between 1000 and 1796, and save it to a variable called `my_number`"
   ]
  },
  {
   "cell_type": "code",
   "execution_count": null,
   "metadata": {},
   "outputs": [],
   "source": [
    "# Choose a number between 1000 and 1796\n",
    "my_number = ____"
   ]
  },
  {
   "cell_type": "markdown",
   "metadata": {},
   "source": [
    "__Exercise:__ Now let's use the `digitshow(...)` function we defined earlier to see what this picture looks like:\n",
    "\n",
    "What number do you think this is?"
   ]
  },
  {
   "cell_type": "code",
   "execution_count": null,
   "metadata": {},
   "outputs": [],
   "source": [
    "# Use the digitshow(...) function to display the picture corresponding to 'my_number'"
   ]
  },
  {
   "cell_type": "markdown",
   "metadata": {},
   "source": [
    "__Exercise:__ Let's ask Python what Python thinks it is. Remember, to do this, we use the `.predict(...)` function on the data.\n",
    "\n",
    "And remember, the variable `nn` holds our machine learning model, and all the training knowledge, from before.\n",
    "\n",
    "__PRO-TIP:__ the code will be a little different for predicting one image instead of ten.  Earlier, we did:\n",
    "\n",
    "    nn.predict( digits.data[1787:1797] )\n",
    "\n",
    "Now, `digits.data[1787:1797]` puts a 2D matrix with shape 10 x 64 into `nn.predict(...)`.\n",
    "But, this breaks if predicting only one image, because `digits.data[1787]` gives a 1D list instead of a 2D matrix.\n",
    "\n",
    "To solve this problem, we can do:\n",
    "\n",
    "    nn.predict( [ digits.data[1787] ] )\n",
    "    #           ^-------------------^------ notice the extra square brackets\n",
    "\n",
    "which ensures that `nn.predict(...)` receives a 2D matrix with shape 1 x 64."
   ]
  },
  {
   "cell_type": "code",
   "execution_count": null,
   "metadata": {},
   "outputs": [],
   "source": [
    "# Use the nn.predict(...) function to ask the computer what the image corresponding to 'my_number' shows"
   ]
  },
  {
   "cell_type": "markdown",
   "metadata": {},
   "source": [
    "__Exercise:__ Finally, let's see what the correct answer is supposed to be, using the list `digits.target`"
   ]
  },
  {
   "cell_type": "code",
   "execution_count": null,
   "metadata": {},
   "outputs": [],
   "source": [
    "# Use digits.target to get the correct answer for the image corresponding to 'my_number'"
   ]
  },
  {
   "cell_type": "markdown",
   "metadata": {},
   "source": [
    "If we wanted to do this for another number, we would have to go through this 3-step process again. How about we make a function to do this for us! \n",
    "\n",
    "__Exercise:__ Make a function which lets the user choose a number less than 1797. Make the function show or print the following items:\n",
    "* the picture corresponding to that item in the dataset\n",
    "* what Python *predicts* the image to be\n",
    "* what the answer actually is!"
   ]
  },
  {
   "cell_type": "code",
   "execution_count": null,
   "metadata": {},
   "outputs": [],
   "source": [
    "def predict_one_image(num):\n",
    "    # inside the function, the argument variable \"num\" now takes the place of \"my_number\".\n",
    "    # the variable \"num\" is valid everywhere inside your function,\n",
    "    # but cannot be used outside the function (think of the Snap! block maker)\n",
    "    \n",
    "    # put your code here.  All code has to be indented with 4 spaces."
   ]
  },
  {
   "cell_type": "code",
   "execution_count": null,
   "metadata": {},
   "outputs": [],
   "source": [
    "predict_one_image(my_number)  # run this to test your code"
   ]
  },
  {
   "cell_type": "markdown",
   "metadata": {},
   "source": [
    "## 6.2 Try to predict more images. How does the algorithm perform with 100 images? 500 images?\n",
    "\n",
    "Earlier, we saw that the computer got 9 of 10 images right.  We say that our algorithm was 90% accurate.\n",
    "\n",
    "But, is our algorithm _really_ 90% accurate?  Maybe the 10 images were really easy, and the computer is not actually that good.  Or, maybe the one incorrect prediction was unusually hard, and the computer is better than we give it credit for.\n",
    "\n",
    "We can test this by giving the computer more images to test on, to get a better sense of its accuracy.\n",
    "\n",
    "As a reminder, here is the code structure we used earlier to train with 1000 images, then predict 10 images.\n",
    "\n",
    "    # choose your training set\n",
    "    training_data = digits.data[0:1000]\n",
    "    training_target = digits.target[0:1000]\n",
    "\n",
    "    # train the machine\n",
    "    nn = neighbors.KNeighborsClassifier(n_neighbors=1)\n",
    "    nn.fit(training_data, training_target)\n",
    "\n",
    "    # choose your test set, for the machine to try predicting\n",
    "    test_data = digits.data[1787:1797]\n",
    "    test_target = digits.target[1787:1797]\n",
    "\n",
    "    # compare prediction to the correct answers\n",
    "    print(\"Predicted\", nn.predict(test_data))\n",
    "    print(\"Answers  \", test_target)\n",
    "\n",
    "__Exercise:__ write your own code, similar to the above, but change the test set to use more than 10 images.  Maybe 100, or 500 images?  Beware: __your test set should not have any images used in training__, as you will get biased/incorrect results that way.\n",
    "\n",
    "Print out the computer predictions, and print out the correct answers."
   ]
  },
  {
   "cell_type": "code",
   "execution_count": null,
   "metadata": {},
   "outputs": [],
   "source": [
    "# put your code here"
   ]
  },
  {
   "cell_type": "markdown",
   "metadata": {},
   "source": [
    "It was easy to calculate the accuracy when we predicted 10 images.  We could look, and add up in our heads the number of correct versus incorrect answers:\n",
    "\n",
    "    >>> print(\"Predicted\", nn.predict(digits.data[1787:1797]))\n",
    "    >>> print(\"Answers  \", digits.target[1787:1797])\n",
    "\n",
    "    Predicted [5 4 8 1 4 9 0 8 9 8]\n",
    "    Answers   [5 4 8 8 4 9 0 8 9 8]\n",
    "\n",
    "But, that's not so easy if we have 100 predictions.  So, below is a function to help you calculate the accuracy.\n",
    "\n",
    "__Exercise:__ read the code for the `accuracy(...)` function until you think you understand what it does.  Then, calculate the accuracy of the machine learning algorithm for >10 test images."
   ]
  },
  {
   "cell_type": "code",
   "execution_count": null,
   "metadata": {},
   "outputs": [],
   "source": [
    "def accuracy(predictions, answers):\n",
    "    \"\"\"Report the percent accuracy, defined as 100 x (correct predictions / total predictions)\"\"\"\n",
    "    \n",
    "    if len(predictions) != len(answers):\n",
    "        print(\"Number of predictions does not match answers\")\n",
    "    \n",
    "    correct = 0\n",
    "    total = len(predictions)\n",
    "    \n",
    "    # loop sets i=0, i=1, ... all the way up to i=(total - 1)\n",
    "    for i in range(total):\n",
    "        if predictions[i] == answers[i]:\n",
    "            correct = correct + 1\n",
    "    \n",
    "    accuracy = 100 * correct / total\n",
    "    print(\"Accuracy was\", accuracy, \"% based upon\", total, \"predictions\")"
   ]
  },
  {
   "cell_type": "code",
   "execution_count": null,
   "metadata": {},
   "outputs": [],
   "source": [
    "# use the accuracy(...) function here on your predictions and answers"
   ]
  },
  {
   "cell_type": "markdown",
   "metadata": {},
   "source": [
    "## 6.3 Train the computer badly!  What happens if you train with only 10 images, or even fewer?\n",
    "\n",
    "If we change the training data, the algorithm will perform differently.  Usually, more data is a good thing (up to a certain point).  What happens if we give the computer very little data to learn from?\n",
    "\n",
    "As a reminder, here is the code structure we used earlier to train with 1000 images, then predict 10 images.\n",
    "\n",
    "    # choose your training set\n",
    "    training_data = digits.data[0:1000]\n",
    "    training_target = digits.target[0:1000]\n",
    "\n",
    "    # train the machine\n",
    "    nn = neighbors.KNeighborsClassifier(n_neighbors=1)\n",
    "    nn.fit(training_data, training_target)\n",
    "\n",
    "    # choose your test set, for the machine to try predicting\n",
    "    test_data = digits.data[1787:1797]\n",
    "    test_target = digits.target[1787:1797]\n",
    "\n",
    "    # compare prediction to the correct answers\n",
    "    print(\"Predicted\", nn.predict(test_data))\n",
    "    print(\"Answers  \", test_target)\n",
    "\n",
    "__Exercise:__ write your own code, similar to the above, but change the training set to use few images, say 100 images, or 10 images.  Then, make the computer predict some images.  How does the computer do now?\n",
    "\n",
    "If you have done Section 6.2, you might want to check: how has the accuracy of the algorithm changed, with fewer training images?"
   ]
  },
  {
   "cell_type": "code",
   "execution_count": null,
   "metadata": {},
   "outputs": [],
   "source": [
    "# put your code here"
   ]
  },
  {
   "cell_type": "markdown",
   "metadata": {},
   "source": [
    "## 6.4 Change the algorithm?\n",
    "\n",
    "Our algorithm is a supervised $k$-nearest neighbors classifier.  What if we use something different, like a \"decision tree\" classifier?  Below, you can choose your own algorithm and see how it performs."
   ]
  },
  {
   "cell_type": "code",
   "execution_count": null,
   "metadata": {},
   "outputs": [],
   "source": [
    "# import different classification algorithms from scikit-learn\n",
    "from sklearn import neighbors\n",
    "from sklearn import svm\n",
    "from sklearn import naive_bayes\n",
    "from sklearn import tree\n",
    "from sklearn import ensemble"
   ]
  },
  {
   "cell_type": "markdown",
   "metadata": {},
   "source": [
    "__Exercise:__ select a classifier algorithm by uncommenting exactly one of the lines of code below.\n",
    "\n",
    "To uncomment, remove '#' at the front.<br>\n",
    "To comment, add '#' at the front.\n",
    "\n",
    "If you have more than one line uncommented, Python will run all the lines of code.<br>\n",
    "Your classifier will then be the very last uncommented line.\n",
    "\n",
    "Also, notice that we have changed our algorithm's variable from `nn` (nearest neighbor) to `csf` (classifier), to be more general."
   ]
  },
  {
   "cell_type": "code",
   "execution_count": null,
   "metadata": {},
   "outputs": [],
   "source": [
    "csf = neighbors.KNeighborsClassifier(n_neighbors=1)  # the algorithm we used before\n",
    "\n",
    "#csf = tree.DecisionTreeClassifier()\n",
    "\n",
    "#csf = ensemble.RandomForestClassifier(n_estimators=50, min_samples_split=1.0, max_depth=None, max_features=16)\n",
    "\n",
    "#csf = ensemble.ExtraTreesClassifier(n_estimators=100, min_samples_split=1.0, max_depth=None, max_features=8)\n",
    "\n",
    "#csf= svm.LinearSVC(C=0.05)  # Linear Support Vector Machine classifier\n",
    "\n",
    "#csf = naive_bayes.GaussianNB()  # Gaussian Naive Bayes classifier"
   ]
  },
  {
   "cell_type": "markdown",
   "metadata": {},
   "source": [
    "__Exercise:__ now that the variable `csf` holds your algorithm of choice, train your algorithm (with `csf.fit(...)` and try to predict some images.  How does your new algorithm do?"
   ]
  },
  {
   "cell_type": "code",
   "execution_count": null,
   "metadata": {},
   "outputs": [],
   "source": [
    "# choose your training set\n",
    "training_data = digits.data[0:1000]\n",
    "training_target = digits.target[0:1000]\n",
    "\n",
    "# train the machine\n",
    "csf.fit(training_data, training_target)\n",
    "\n",
    "# choose your test set, for the machine to try predicting\n",
    "test_data = digits.data[1787:1797]\n",
    "test_target = digits.target[1787:1797]\n",
    "\n",
    "# compare prediction to the correct answers\n",
    "print(\"Predicted\", csf.predict(test_data))  # changed from \"nn\" to \"csf\"\n",
    "print(\"Answers  \", test_target)"
   ]
  },
  {
   "cell_type": "markdown",
   "metadata": {},
   "source": [
    "You will probably find that the Nearest Neighbors classifier is one of the best performers, for this digits dataset."
   ]
  }
 ],
 "metadata": {
  "kernelspec": {
   "display_name": "Python 3 (ipykernel)",
   "language": "python",
   "name": "python3"
  },
  "language_info": {
   "codemirror_mode": {
    "name": "ipython",
    "version": 3
   },
   "file_extension": ".py",
   "mimetype": "text/x-python",
   "name": "python",
   "nbconvert_exporter": "python",
   "pygments_lexer": "ipython3",
   "version": "3.9.7"
  }
 },
 "nbformat": 4,
 "nbformat_minor": 4
}
